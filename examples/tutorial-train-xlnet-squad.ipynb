{
  "nbformat": 4,
  "nbformat_minor": 0,
  "metadata": {
    "colab": {
      "name": "tutorial-predict-pipeline.ipynb",
      "version": "0.3.2",
      "provenance": []
    },
    "language_info": {
      "codemirror_mode": {
        "name": "ipython",
        "version": 3
      },
      "file_extension": ".py",
      "mimetype": "text/x-python",
      "name": "python",
      "nbconvert_exporter": "python",
      "pygments_lexer": "ipython3",
      "version": "3.7.3"
    },
    "kernelspec": {
      "name": "python3",
      "display_name": "Python 3"
    },
    "accelerator": "GPU"
  },
  "cells": [
    {
      "cell_type": "code",
      "metadata": {
        "id": "zNtCqwveFjcK",
        "colab_type": "code",
        "colab": {
          "base_uri": "https://localhost:8080/",
          "height": 153
        },
        "outputId": "03a577cd-62e2-405e-aa3e-a35314400191"
      },
      "source": [
        "!git clone https://github.com/cdqa-suite/cdQA.git"
      ],
      "execution_count": 1,
      "outputs": [
        {
          "output_type": "stream",
          "text": [
            "Cloning into 'cdQA'...\n",
            "remote: Enumerating objects: 45, done.\u001b[K\n",
            "remote: Counting objects:   2% (1/45)   \u001b[K\rremote: Counting objects:   4% (2/45)   \u001b[K\rremote: Counting objects:   6% (3/45)   \u001b[K\rremote: Counting objects:   8% (4/45)   \u001b[K\rremote: Counting objects:  11% (5/45)   \u001b[K\rremote: Counting objects:  13% (6/45)   \u001b[K\rremote: Counting objects:  15% (7/45)   \u001b[K\rremote: Counting objects:  17% (8/45)   \u001b[K\rremote: Counting objects:  20% (9/45)   \u001b[K\rremote: Counting objects:  22% (10/45)   \u001b[K\rremote: Counting objects:  24% (11/45)   \u001b[K\rremote: Counting objects:  26% (12/45)   \u001b[K\rremote: Counting objects:  28% (13/45)   \u001b[K\rremote: Counting objects:  31% (14/45)   \u001b[K\rremote: Counting objects:  33% (15/45)   \u001b[K\rremote: Counting objects:  35% (16/45)   \u001b[K\rremote: Counting objects:  37% (17/45)   \u001b[K\rremote: Counting objects:  40% (18/45)   \u001b[K\rremote: Counting objects:  42% (19/45)   \u001b[K\rremote: Counting objects:  44% (20/45)   \u001b[K\rremote: Counting objects:  46% (21/45)   \u001b[K\rremote: Counting objects:  48% (22/45)   \u001b[K\rremote: Counting objects:  51% (23/45)   \u001b[K\rremote: Counting objects:  53% (24/45)   \u001b[K\rremote: Counting objects:  55% (25/45)   \u001b[K\rremote: Counting objects:  57% (26/45)   \u001b[K\rremote: Counting objects:  60% (27/45)   \u001b[K\rremote: Counting objects:  62% (28/45)   \u001b[K\rremote: Counting objects:  64% (29/45)   \u001b[K\rremote: Counting objects:  66% (30/45)   \u001b[K\rremote: Counting objects:  68% (31/45)   \u001b[K\rremote: Counting objects:  71% (32/45)   \u001b[K\rremote: Counting objects:  73% (33/45)   \u001b[K\rremote: Counting objects:  75% (34/45)   \u001b[K\rremote: Counting objects:  77% (35/45)   \u001b[K\rremote: Counting objects:  80% (36/45)   \u001b[K\rremote: Counting objects:  82% (37/45)   \u001b[K\rremote: Counting objects:  84% (38/45)   \u001b[K\rremote: Counting objects:  86% (39/45)   \u001b[K\rremote: Counting objects:  88% (40/45)   \u001b[K\rremote: Counting objects:  91% (41/45)   \u001b[K\rremote: Counting objects:  93% (42/45)   \u001b[K\rremote: Counting objects:  95% (43/45)   \u001b[K\rremote: Counting objects:  97% (44/45)   \u001b[K\rremote: Counting objects: 100% (45/45)   \u001b[K\rremote: Counting objects: 100% (45/45), done.\u001b[K\n",
            "remote: Compressing objects:   2% (1/35)   \u001b[K\rremote: Compressing objects:   5% (2/35)   \u001b[K\rremote: Compressing objects:   8% (3/35)   \u001b[K\rremote: Compressing objects:  11% (4/35)   \u001b[K\rremote: Compressing objects:  14% (5/35)   \u001b[K\rremote: Compressing objects:  17% (6/35)   \u001b[K\rremote: Compressing objects:  20% (7/35)   \u001b[K\rremote: Compressing objects:  22% (8/35)   \u001b[K\rremote: Compressing objects:  25% (9/35)   \u001b[K\rremote: Compressing objects:  28% (10/35)   \u001b[K\rremote: Compressing objects:  31% (11/35)   \u001b[K\rremote: Compressing objects:  34% (12/35)   \u001b[K\rremote: Compressing objects:  37% (13/35)   \u001b[K\rremote: Compressing objects:  40% (14/35)   \u001b[K\rremote: Compressing objects:  42% (15/35)   \u001b[K\rremote: Compressing objects:  45% (16/35)   \u001b[K\rremote: Compressing objects:  48% (17/35)   \u001b[K\rremote: Compressing objects:  51% (18/35)   \u001b[K\rremote: Compressing objects:  54% (19/35)   \u001b[K\rremote: Compressing objects:  57% (20/35)   \u001b[K\rremote: Compressing objects:  60% (21/35)   \u001b[K\rremote: Compressing objects:  62% (22/35)   \u001b[K\rremote: Compressing objects:  65% (23/35)   \u001b[K\rremote: Compressing objects:  68% (24/35)   \u001b[K\rremote: Compressing objects:  71% (25/35)   \u001b[K\rremote: Compressing objects:  74% (26/35)   \u001b[K\rremote: Compressing objects:  77% (27/35)   \u001b[K\rremote: Compressing objects:  80% (28/35)   \u001b[K\rremote: Compressing objects:  82% (29/35)   \u001b[K\rremote: Compressing objects:  85% (30/35)   \u001b[K\rremote: Compressing objects:  88% (31/35)   \u001b[K\rremote: Compressing objects:  91% (32/35)   \u001b[K\rremote: Compressing objects:  94% (33/35)   \u001b[K\rremote: Compressing objects:  97% (34/35)   \u001b[K\rremote: Compressing objects: 100% (35/35)   \u001b[K\rremote: Compressing objects: 100% (35/35), done.\u001b[K\n",
            "Receiving objects:   0% (1/841)   \rReceiving objects:   1% (9/841)   \rReceiving objects:   2% (17/841)   \rReceiving objects:   3% (26/841)   \rReceiving objects:   4% (34/841)   \rReceiving objects:   5% (43/841)   \rReceiving objects:   6% (51/841)   \rReceiving objects:   7% (59/841)   \rReceiving objects:   8% (68/841)   \rReceiving objects:   9% (76/841)   \rReceiving objects:  10% (85/841)   \rReceiving objects:  11% (93/841)   \rReceiving objects:  12% (101/841)   \rReceiving objects:  13% (110/841)   \rReceiving objects:  14% (118/841)   \rReceiving objects:  15% (127/841)   \rReceiving objects:  16% (135/841)   \rReceiving objects:  17% (143/841)   \rReceiving objects:  18% (152/841)   \rReceiving objects:  19% (160/841)   \rReceiving objects:  20% (169/841)   \rReceiving objects:  21% (177/841)   \rReceiving objects:  22% (186/841)   \rReceiving objects:  23% (194/841)   \rReceiving objects:  24% (202/841)   \rReceiving objects:  25% (211/841)   \rReceiving objects:  26% (219/841)   \rReceiving objects:  27% (228/841)   \rReceiving objects:  28% (236/841)   \rReceiving objects:  29% (244/841)   \rReceiving objects:  30% (253/841)   \rReceiving objects:  31% (261/841)   \rReceiving objects:  32% (270/841)   \rReceiving objects:  33% (278/841)   \rReceiving objects:  34% (286/841)   \rReceiving objects:  35% (295/841)   \rReceiving objects:  36% (303/841)   \rReceiving objects:  37% (312/841)   \rReceiving objects:  38% (320/841)   \rReceiving objects:  39% (328/841)   \rReceiving objects:  40% (337/841)   \rReceiving objects:  41% (345/841)   \rReceiving objects:  42% (354/841)   \rReceiving objects:  43% (362/841)   \rReceiving objects:  44% (371/841)   \rReceiving objects:  45% (379/841)   \rReceiving objects:  46% (387/841)   \rReceiving objects:  47% (396/841)   \rReceiving objects:  48% (404/841)   \rReceiving objects:  49% (413/841)   \rReceiving objects:  50% (421/841)   \rReceiving objects:  51% (429/841)   \rReceiving objects:  52% (438/841)   \rReceiving objects:  53% (446/841)   \rReceiving objects:  54% (455/841)   \rReceiving objects:  55% (463/841)   \rReceiving objects:  56% (471/841)   \rReceiving objects:  57% (480/841)   \rReceiving objects:  58% (488/841)   \rReceiving objects:  59% (497/841)   \rReceiving objects:  60% (505/841)   \rReceiving objects:  61% (514/841)   \rReceiving objects:  62% (522/841)   \rReceiving objects:  63% (530/841)   \rReceiving objects:  64% (539/841)   \rReceiving objects:  65% (547/841)   \rReceiving objects:  66% (556/841)   \rReceiving objects:  67% (564/841)   \rReceiving objects:  68% (572/841)   \rReceiving objects:  69% (581/841)   \rReceiving objects:  70% (589/841)   \rReceiving objects:  71% (598/841)   \rReceiving objects:  72% (606/841)   \rReceiving objects:  73% (614/841)   \rReceiving objects:  74% (623/841)   \rremote: Total 841 (delta 22), reused 25 (delta 10), pack-reused 796\u001b[K\n",
            "Receiving objects:  75% (631/841)   \rReceiving objects:  76% (640/841)   \rReceiving objects:  77% (648/841)   \rReceiving objects:  78% (656/841)   \rReceiving objects:  79% (665/841)   \rReceiving objects:  80% (673/841)   \rReceiving objects:  81% (682/841)   \rReceiving objects:  82% (690/841)   \rReceiving objects:  83% (699/841)   \rReceiving objects:  84% (707/841)   \rReceiving objects:  85% (715/841)   \rReceiving objects:  86% (724/841)   \rReceiving objects:  87% (732/841)   \rReceiving objects:  88% (741/841)   \rReceiving objects:  89% (749/841)   \rReceiving objects:  90% (757/841)   \rReceiving objects:  91% (766/841)   \rReceiving objects:  92% (774/841)   \rReceiving objects:  93% (783/841)   \rReceiving objects:  94% (791/841)   \rReceiving objects:  95% (799/841)   \rReceiving objects:  96% (808/841)   \rReceiving objects:  97% (816/841)   \rReceiving objects:  98% (825/841)   \rReceiving objects:  99% (833/841)   \rReceiving objects: 100% (841/841)   \rReceiving objects: 100% (841/841), 266.80 KiB | 11.12 MiB/s, done.\n",
            "Resolving deltas:   0% (0/489)   \rResolving deltas:   1% (5/489)   \rResolving deltas:   4% (22/489)   \rResolving deltas:   5% (25/489)   \rResolving deltas:   6% (31/489)   \rResolving deltas:   7% (38/489)   \rResolving deltas:  11% (54/489)   \rResolving deltas:  13% (66/489)   \rResolving deltas:  19% (96/489)   \rResolving deltas:  21% (105/489)   \rResolving deltas:  23% (117/489)   \rResolving deltas:  27% (133/489)   \rResolving deltas:  31% (152/489)   \rResolving deltas:  33% (162/489)   \rResolving deltas:  34% (167/489)   \rResolving deltas:  35% (174/489)   \rResolving deltas:  37% (184/489)   \rResolving deltas:  40% (196/489)   \rResolving deltas:  41% (202/489)   \rResolving deltas:  42% (206/489)   \rResolving deltas:  64% (317/489)   \rResolving deltas:  65% (318/489)   \rResolving deltas:  66% (325/489)   \rResolving deltas:  67% (329/489)   \rResolving deltas:  68% (333/489)   \rResolving deltas:  71% (350/489)   \rResolving deltas:  72% (353/489)   \rResolving deltas:  74% (362/489)   \rResolving deltas:  77% (380/489)   \rResolving deltas:  80% (392/489)   \rResolving deltas:  82% (403/489)   \rResolving deltas:  87% (427/489)   \rResolving deltas:  88% (433/489)   \rResolving deltas:  89% (440/489)   \rResolving deltas:  90% (441/489)   \rResolving deltas:  91% (449/489)   \rResolving deltas:  92% (454/489)   \rResolving deltas:  93% (459/489)   \rResolving deltas:  94% (463/489)   \rResolving deltas:  95% (466/489)   \rResolving deltas: 100% (489/489)   \rResolving deltas: 100% (489/489), done.\n"
          ],
          "name": "stdout"
        }
      ]
    },
    {
      "cell_type": "code",
      "metadata": {
        "id": "v2XvXm4bFp7h",
        "colab_type": "code",
        "colab": {}
      },
      "source": [
        "import os\n",
        "cwd = os.getcwd()\n",
        "os.chdir(\"cdQA\")"
      ],
      "execution_count": 0,
      "outputs": []
    },
    {
      "cell_type": "code",
      "metadata": {
        "id": "i8-WoI4eFw_E",
        "colab_type": "code",
        "colab": {
          "base_uri": "https://localhost:8080/",
          "height": 366
        },
        "outputId": "4a564950-1d3f-4627-8fa2-63c61fa579de"
      },
      "source": [
        "!ls -la"
      ],
      "execution_count": 3,
      "outputs": [
        {
          "output_type": "stream",
          "text": [
            "total 84\n",
            "drwxr-xr-x 7 root root  4096 Jul 15 15:04 .\n",
            "drwxr-xr-x 1 root root  4096 Jul 15 15:04 ..\n",
            "-rw-r--r-- 1 root root   815 Jul 15 15:04 api.py\n",
            "-rw-r--r-- 1 root root    22 Jul 15 15:04 apt.txt\n",
            "drwxr-xr-x 6 root root  4096 Jul 15 15:04 cdqa\n",
            "-rw-r--r-- 1 root root  1452 Jul 15 15:04 download.py\n",
            "drwxr-xr-x 2 root root  4096 Jul 15 15:04 examples\n",
            "drwxr-xr-x 8 root root  4096 Jul 15 15:04 .git\n",
            "drwxr-xr-x 3 root root  4096 Jul 15 15:04 .github\n",
            "-rw-r--r-- 1 root root  1375 Jul 15 15:04 .gitignore\n",
            "-rw-r--r-- 1 root root 11356 Jul 15 15:04 LICENSE\n",
            "-rw-r--r-- 1 root root    40 Jul 15 15:04 MANIFEST.in\n",
            "-rw-r--r-- 1 root root 12184 Jul 15 15:04 README.md\n",
            "-rw-r--r-- 1 root root    95 Jul 15 15:04 requirements.txt\n",
            "-rw-r--r-- 1 root root   727 Jul 15 15:04 setup.py\n",
            "drwxr-xr-x 2 root root  4096 Jul 15 15:04 tests\n",
            "-rw-r--r-- 1 root root   312 Jul 15 15:04 .travis.yml\n"
          ],
          "name": "stdout"
        }
      ]
    },
    {
      "cell_type": "code",
      "metadata": {
        "id": "5jBtSKczGF38",
        "colab_type": "code",
        "colab": {
          "base_uri": "https://localhost:8080/",
          "height": 56
        },
        "outputId": "d6cd8cdc-94dd-432c-9df9-7ac93b25c5f0"
      },
      "source": [
        "!git checkout sync-huggingface"
      ],
      "execution_count": 4,
      "outputs": [
        {
          "output_type": "stream",
          "text": [
            "Branch 'sync-huggingface' set up to track remote branch 'sync-huggingface' from 'origin'.\n",
            "Switched to a new branch 'sync-huggingface'\n"
          ],
          "name": "stdout"
        }
      ]
    },
    {
      "cell_type": "code",
      "metadata": {
        "id": "DHl2HUX1GRd6",
        "colab_type": "code",
        "colab": {
          "base_uri": "https://localhost:8080/",
          "height": 1000
        },
        "outputId": "7dd4a79c-827a-4491-dc6b-7ab369dfbf3e"
      },
      "source": [
        "!pip install -e ."
      ],
      "execution_count": 5,
      "outputs": [
        {
          "output_type": "stream",
          "text": [
            "Obtaining file:///content/cdQA\n",
            "Requirement already satisfied: Flask in /usr/local/lib/python3.6/dist-packages (from cdqa==1.0.3) (1.1.1)\n",
            "Collecting flask_cors (from cdqa==1.0.3)\n",
            "  Downloading https://files.pythonhosted.org/packages/78/38/e68b11daa5d613e3a91e4bf3da76c94ac9ee0d9cd515af9c1ab80d36f709/Flask_Cors-3.0.8-py2.py3-none-any.whl\n",
            "Requirement already satisfied: joblib in /usr/local/lib/python3.6/dist-packages (from cdqa==1.0.3) (0.13.2)\n",
            "Requirement already satisfied: pandas in /usr/local/lib/python3.6/dist-packages (from cdqa==1.0.3) (0.24.2)\n",
            "Requirement already satisfied: prettytable in /usr/local/lib/python3.6/dist-packages (from cdqa==1.0.3) (0.7.2)\n",
            "Collecting pytorch_pretrained_bert (from cdqa==1.0.3)\n",
            "\u001b[?25l  Downloading https://files.pythonhosted.org/packages/d7/e0/c08d5553b89973d9a240605b9c12404bcf8227590de62bae27acbcfe076b/pytorch_pretrained_bert-0.6.2-py3-none-any.whl (123kB)\n",
            "\u001b[K     |████████████████████████████████| 133kB 4.1MB/s \n",
            "\u001b[?25hRequirement already satisfied: scikit_learn in /usr/local/lib/python3.6/dist-packages (from cdqa==1.0.3) (0.21.2)\n",
            "Collecting tika (from cdqa==1.0.3)\n",
            "  Downloading https://files.pythonhosted.org/packages/10/75/b566e446ffcf292f10c8d84c15a3d91615fe3d7ca8072a17c949d4e84b66/tika-1.19.tar.gz\n",
            "Requirement already satisfied: tqdm in /usr/local/lib/python3.6/dist-packages (from cdqa==1.0.3) (4.28.1)\n",
            "Collecting wget (from cdqa==1.0.3)\n",
            "  Downloading https://files.pythonhosted.org/packages/47/6a/62e288da7bcda82b935ff0c6cfe542970f04e29c756b0e147251b2fb251f/wget-3.2.zip\n",
            "Requirement already satisfied: Jinja2>=2.10.1 in /usr/local/lib/python3.6/dist-packages (from Flask->cdqa==1.0.3) (2.10.1)\n",
            "Requirement already satisfied: click>=5.1 in /usr/local/lib/python3.6/dist-packages (from Flask->cdqa==1.0.3) (7.0)\n",
            "Requirement already satisfied: Werkzeug>=0.15 in /usr/local/lib/python3.6/dist-packages (from Flask->cdqa==1.0.3) (0.15.4)\n",
            "Requirement already satisfied: itsdangerous>=0.24 in /usr/local/lib/python3.6/dist-packages (from Flask->cdqa==1.0.3) (1.1.0)\n",
            "Requirement already satisfied: Six in /usr/local/lib/python3.6/dist-packages (from flask_cors->cdqa==1.0.3) (1.12.0)\n",
            "Requirement already satisfied: pytz>=2011k in /usr/local/lib/python3.6/dist-packages (from pandas->cdqa==1.0.3) (2018.9)\n",
            "Requirement already satisfied: numpy>=1.12.0 in /usr/local/lib/python3.6/dist-packages (from pandas->cdqa==1.0.3) (1.16.4)\n",
            "Requirement already satisfied: python-dateutil>=2.5.0 in /usr/local/lib/python3.6/dist-packages (from pandas->cdqa==1.0.3) (2.5.3)\n",
            "Requirement already satisfied: boto3 in /usr/local/lib/python3.6/dist-packages (from pytorch_pretrained_bert->cdqa==1.0.3) (1.9.185)\n",
            "Collecting regex (from pytorch_pretrained_bert->cdqa==1.0.3)\n",
            "\u001b[?25l  Downloading https://files.pythonhosted.org/packages/6f/4e/1b178c38c9a1a184288f72065a65ca01f3154df43c6ad898624149b8b4e0/regex-2019.06.08.tar.gz (651kB)\n",
            "\u001b[K     |████████████████████████████████| 655kB 8.9MB/s \n",
            "\u001b[?25hRequirement already satisfied: requests in /usr/local/lib/python3.6/dist-packages (from pytorch_pretrained_bert->cdqa==1.0.3) (2.21.0)\n",
            "Requirement already satisfied: torch>=0.4.1 in /usr/local/lib/python3.6/dist-packages (from pytorch_pretrained_bert->cdqa==1.0.3) (1.1.0)\n",
            "Requirement already satisfied: scipy>=0.17.0 in /usr/local/lib/python3.6/dist-packages (from scikit_learn->cdqa==1.0.3) (1.3.0)\n",
            "Requirement already satisfied: setuptools in /usr/local/lib/python3.6/dist-packages (from tika->cdqa==1.0.3) (41.0.1)\n",
            "Requirement already satisfied: MarkupSafe>=0.23 in /usr/local/lib/python3.6/dist-packages (from Jinja2>=2.10.1->Flask->cdqa==1.0.3) (1.1.1)\n",
            "Requirement already satisfied: s3transfer<0.3.0,>=0.2.0 in /usr/local/lib/python3.6/dist-packages (from boto3->pytorch_pretrained_bert->cdqa==1.0.3) (0.2.1)\n",
            "Requirement already satisfied: jmespath<1.0.0,>=0.7.1 in /usr/local/lib/python3.6/dist-packages (from boto3->pytorch_pretrained_bert->cdqa==1.0.3) (0.9.4)\n",
            "Requirement already satisfied: botocore<1.13.0,>=1.12.185 in /usr/local/lib/python3.6/dist-packages (from boto3->pytorch_pretrained_bert->cdqa==1.0.3) (1.12.185)\n",
            "Requirement already satisfied: chardet<3.1.0,>=3.0.2 in /usr/local/lib/python3.6/dist-packages (from requests->pytorch_pretrained_bert->cdqa==1.0.3) (3.0.4)\n",
            "Requirement already satisfied: certifi>=2017.4.17 in /usr/local/lib/python3.6/dist-packages (from requests->pytorch_pretrained_bert->cdqa==1.0.3) (2019.6.16)\n",
            "Requirement already satisfied: urllib3<1.25,>=1.21.1 in /usr/local/lib/python3.6/dist-packages (from requests->pytorch_pretrained_bert->cdqa==1.0.3) (1.24.3)\n",
            "Requirement already satisfied: idna<2.9,>=2.5 in /usr/local/lib/python3.6/dist-packages (from requests->pytorch_pretrained_bert->cdqa==1.0.3) (2.8)\n",
            "Requirement already satisfied: docutils>=0.10 in /usr/local/lib/python3.6/dist-packages (from botocore<1.13.0,>=1.12.185->boto3->pytorch_pretrained_bert->cdqa==1.0.3) (0.14)\n",
            "Building wheels for collected packages: tika, wget, regex\n",
            "  Building wheel for tika (setup.py) ... \u001b[?25l\u001b[?25hdone\n",
            "  Stored in directory: /root/.cache/pip/wheels/b4/db/8a/3a3f0c0725448eaa92703e3dda71e29dc13a119ff6c1036848\n",
            "  Building wheel for wget (setup.py) ... \u001b[?25l\u001b[?25hdone\n",
            "  Stored in directory: /root/.cache/pip/wheels/40/15/30/7d8f7cea2902b4db79e3fea550d7d7b85ecb27ef992b618f3f\n",
            "  Building wheel for regex (setup.py) ... \u001b[?25l\u001b[?25hdone\n",
            "  Stored in directory: /root/.cache/pip/wheels/35/e4/80/abf3b33ba89cf65cd262af8a22a5a999cc28fbfabea6b38473\n",
            "Successfully built tika wget regex\n",
            "Installing collected packages: flask-cors, regex, pytorch-pretrained-bert, tika, wget, cdqa\n",
            "  Running setup.py develop for cdqa\n",
            "Successfully installed cdqa flask-cors-3.0.8 pytorch-pretrained-bert-0.6.2 regex-2019.6.8 tika-1.19 wget-3.2\n"
          ],
          "name": "stdout"
        }
      ]
    },
    {
      "cell_type": "code",
      "metadata": {
        "id": "_NWD3P6qH_8_",
        "colab_type": "code",
        "colab": {}
      },
      "source": [
        "import wget\n",
        "\n",
        "squad_urls = [\n",
        "        'https://rajpurkar.github.io/SQuAD-explorer/dataset/train-v1.1.json',\n",
        "        'https://rajpurkar.github.io/SQuAD-explorer/dataset/dev-v1.1.json',\n",
        "        'https://rajpurkar.github.io/SQuAD-explorer/dataset/train-v2.0.json',\n",
        "        'https://rajpurkar.github.io/SQuAD-explorer/dataset/dev-v2.0.json'\n",
        "]\n",
        "\n",
        "for squad_url in squad_urls:\n",
        "    wget.download(url=squad_url, out='.')"
      ],
      "execution_count": 0,
      "outputs": []
    },
    {
      "cell_type": "code",
      "metadata": {
        "id": "50r4anYBITRO",
        "colab_type": "code",
        "colab": {
          "base_uri": "https://localhost:8080/",
          "height": 94
        },
        "outputId": "c4caa2d3-a1b1-4bd5-dece-36153bddf7d6"
      },
      "source": [
        "!ls"
      ],
      "execution_count": 7,
      "outputs": [
        {
          "output_type": "stream",
          "text": [
            "api.py\t       dev-v1.1.json  LICENSE\t\tsetup.py\n",
            "apt.txt        dev-v2.0.json  MANIFEST.in\ttests\n",
            "cdqa\t       download.py    README.md\t\ttrain-v1.1.json\n",
            "cdqa.egg-info  examples       requirements.txt\ttrain-v2.0.json\n"
          ],
          "name": "stdout"
        }
      ]
    },
    {
      "cell_type": "code",
      "metadata": {
        "id": "oXW27LR3KvrT",
        "colab_type": "code",
        "colab": {
          "base_uri": "https://localhost:8080/",
          "height": 191
        },
        "outputId": "d9f17f5d-bff0-40ae-880c-4f86fa75daec"
      },
      "source": [
        "!pip install tensorboardX"
      ],
      "execution_count": 9,
      "outputs": [
        {
          "output_type": "stream",
          "text": [
            "Collecting tensorboardX\n",
            "\u001b[?25l  Downloading https://files.pythonhosted.org/packages/c3/12/dcaf67e1312475b26db9e45e7bb6f32b540671a9ee120b3a72d9e09bc517/tensorboardX-1.8-py2.py3-none-any.whl (216kB)\n",
            "\r\u001b[K     |█▌                              | 10kB 13.3MB/s eta 0:00:01\r\u001b[K     |███                             | 20kB 1.8MB/s eta 0:00:01\r\u001b[K     |████▌                           | 30kB 2.7MB/s eta 0:00:01\r\u001b[K     |██████                          | 40kB 1.7MB/s eta 0:00:01\r\u001b[K     |███████▋                        | 51kB 2.2MB/s eta 0:00:01\r\u001b[K     |█████████                       | 61kB 2.6MB/s eta 0:00:01\r\u001b[K     |██████████▋                     | 71kB 3.0MB/s eta 0:00:01\r\u001b[K     |████████████▏                   | 81kB 3.4MB/s eta 0:00:01\r\u001b[K     |█████████████▋                  | 92kB 3.8MB/s eta 0:00:01\r\u001b[K     |███████████████▏                | 102kB 2.9MB/s eta 0:00:01\r\u001b[K     |████████████████▊               | 112kB 2.9MB/s eta 0:00:01\r\u001b[K     |██████████████████▏             | 122kB 2.9MB/s eta 0:00:01\r\u001b[K     |███████████████████▊            | 133kB 2.9MB/s eta 0:00:01\r\u001b[K     |█████████████████████▏          | 143kB 2.9MB/s eta 0:00:01\r\u001b[K     |██████████████████████▊         | 153kB 2.9MB/s eta 0:00:01\r\u001b[K     |████████████████████████▎       | 163kB 2.9MB/s eta 0:00:01\r\u001b[K     |█████████████████████████▊      | 174kB 2.9MB/s eta 0:00:01\r\u001b[K     |███████████████████████████▎    | 184kB 2.9MB/s eta 0:00:01\r\u001b[K     |████████████████████████████▉   | 194kB 2.9MB/s eta 0:00:01\r\u001b[K     |██████████████████████████████▎ | 204kB 2.9MB/s eta 0:00:01\r\u001b[K     |███████████████████████████████▉| 215kB 2.9MB/s eta 0:00:01\r\u001b[K     |████████████████████████████████| 225kB 2.9MB/s \n",
            "\u001b[?25hRequirement already satisfied: protobuf>=3.2.0 in /usr/local/lib/python3.6/dist-packages (from tensorboardX) (3.7.1)\n",
            "Requirement already satisfied: numpy in /usr/local/lib/python3.6/dist-packages (from tensorboardX) (1.16.4)\n",
            "Requirement already satisfied: six in /usr/local/lib/python3.6/dist-packages (from tensorboardX) (1.12.0)\n",
            "Requirement already satisfied: setuptools in /usr/local/lib/python3.6/dist-packages (from protobuf>=3.2.0->tensorboardX) (41.0.1)\n",
            "Installing collected packages: tensorboardX\n",
            "Successfully installed tensorboardX-1.8\n"
          ],
          "name": "stdout"
        }
      ]
    },
    {
      "cell_type": "code",
      "metadata": {
        "ExecuteTime": {
          "end_time": "2019-06-25T14:21:08.091797Z",
          "start_time": "2019-06-25T14:21:03.027877Z"
        },
        "id": "umJkmO9HFf3L",
        "colab_type": "code",
        "colab": {
          "base_uri": "https://localhost:8080/",
          "height": 548
        },
        "outputId": "2965eac0-1d9c-4699-f410-5437482e41c2"
      },
      "source": [
        "import os\n",
        "import torch\n",
        "from sklearn.externals import joblib\n",
        "from cdqa.reader.reader_sklearn import Reader\n",
        "\n",
        "reader = Reader(train_file='train-v2.0.json',\n",
        "                predict_file='dev-v2.0.json',\n",
        "                model_name='xlnet',\n",
        "                output_dir='.')\n",
        "\n",
        "reader.fit()"
      ],
      "execution_count": 10,
      "outputs": [
        {
          "output_type": "error",
          "ename": "ModuleNotFoundError",
          "evalue": "ignored",
          "traceback": [
            "\u001b[0;31m---------------------------------------------------------------------------\u001b[0m",
            "\u001b[0;31mModuleNotFoundError\u001b[0m                       Traceback (most recent call last)",
            "\u001b[0;32m<ipython-input-10-9b77579643ae>\u001b[0m in \u001b[0;36m<module>\u001b[0;34m()\u001b[0m\n\u001b[1;32m      2\u001b[0m \u001b[0;32mimport\u001b[0m \u001b[0mtorch\u001b[0m\u001b[0;34m\u001b[0m\u001b[0;34m\u001b[0m\u001b[0m\n\u001b[1;32m      3\u001b[0m \u001b[0;32mfrom\u001b[0m \u001b[0msklearn\u001b[0m\u001b[0;34m.\u001b[0m\u001b[0mexternals\u001b[0m \u001b[0;32mimport\u001b[0m \u001b[0mjoblib\u001b[0m\u001b[0;34m\u001b[0m\u001b[0;34m\u001b[0m\u001b[0m\n\u001b[0;32m----> 4\u001b[0;31m \u001b[0;32mfrom\u001b[0m \u001b[0mcdqa\u001b[0m\u001b[0;34m.\u001b[0m\u001b[0mreader\u001b[0m\u001b[0;34m.\u001b[0m\u001b[0mreader_sklearn\u001b[0m \u001b[0;32mimport\u001b[0m \u001b[0mReader\u001b[0m\u001b[0;34m\u001b[0m\u001b[0;34m\u001b[0m\u001b[0m\n\u001b[0m\u001b[1;32m      5\u001b[0m \u001b[0;34m\u001b[0m\u001b[0m\n\u001b[1;32m      6\u001b[0m reader = Reader(train_file='train-v2.0.json',\n",
            "\u001b[0;32m/content/cdQA/cdqa/reader/reader_sklearn.py\u001b[0m in \u001b[0;36m<module>\u001b[0;34m()\u001b[0m\n\u001b[1;32m     33\u001b[0m \u001b[0;32mfrom\u001b[0m \u001b[0mtensorboardX\u001b[0m \u001b[0;32mimport\u001b[0m \u001b[0mSummaryWriter\u001b[0m\u001b[0;34m\u001b[0m\u001b[0;34m\u001b[0m\u001b[0m\n\u001b[1;32m     34\u001b[0m \u001b[0;34m\u001b[0m\u001b[0m\n\u001b[0;32m---> 35\u001b[0;31m from pytorch_transformers import (WEIGHTS_NAME, BertConfig,\n\u001b[0m\u001b[1;32m     36\u001b[0m                                   \u001b[0mBertForQuestionAnswering\u001b[0m\u001b[0;34m,\u001b[0m \u001b[0mBertTokenizer\u001b[0m\u001b[0;34m,\u001b[0m\u001b[0;34m\u001b[0m\u001b[0;34m\u001b[0m\u001b[0m\n\u001b[1;32m     37\u001b[0m                                   \u001b[0mXLMConfig\u001b[0m\u001b[0;34m,\u001b[0m \u001b[0mXLMForQuestionAnswering\u001b[0m\u001b[0;34m,\u001b[0m\u001b[0;34m\u001b[0m\u001b[0;34m\u001b[0m\u001b[0m\n",
            "\u001b[0;31mModuleNotFoundError\u001b[0m: No module named 'pytorch_transformers'",
            "",
            "\u001b[0;31m---------------------------------------------------------------------------\u001b[0;32m\nNOTE: If your import is failing due to a missing package, you can\nmanually install dependencies using either !pip or !apt.\n\nTo view examples of installing some common dependencies, click the\n\"Open Examples\" button below.\n\u001b[0;31m---------------------------------------------------------------------------\u001b[0m\n"
          ]
        }
      ]
    },
    {
      "cell_type": "code",
      "metadata": {
        "ExecuteTime": {
          "end_time": "2019-06-25T14:21:26.472449Z",
          "start_time": "2019-06-25T14:21:11.427052Z"
        },
        "id": "NIwNr1DdFf3X",
        "colab_type": "code",
        "colab": {}
      },
      "source": [
        "# prediction = reader.predict(X='Since when does the Excellence Program of BNP Paribas exist?')"
      ],
      "execution_count": 0,
      "outputs": []
    }
  ]
}