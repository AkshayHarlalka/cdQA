{
 "cells": [
  {
   "cell_type": "code",
   "execution_count": 1,
   "metadata": {},
   "outputs": [],
   "source": [
    "import os\n",
    "from ast import literal_eval\n",
    "import pandas as pd\n",
    "from joblib import load\n",
    "\n",
    "from cdqa.retriever.tfidf_doc_ranker import train_document_retriever\n",
    "from cdqa.utils.converter import filter_paragraphs"
   ]
  },
  {
   "cell_type": "code",
   "execution_count": 2,
   "metadata": {},
   "outputs": [],
   "source": [
    "df = pd.read_csv('../data/bnpp_newsroom_v1.0/bnpp_newsroom-v1.0.csv', converters={'paragraphs': literal_eval})\n",
    "\n",
    "df['paragraphs'] = df['paragraphs'].apply(filter_paragraphs)\n",
    "df['content'] = df['paragraphs'].apply(lambda x: ' '.join(x))"
   ]
  },
  {
   "cell_type": "code",
   "execution_count": 3,
   "metadata": {},
   "outputs": [
    {
     "data": {
      "text/html": [
       "<div>\n",
       "<style scoped>\n",
       "    .dataframe tbody tr th:only-of-type {\n",
       "        vertical-align: middle;\n",
       "    }\n",
       "\n",
       "    .dataframe tbody tr th {\n",
       "        vertical-align: top;\n",
       "    }\n",
       "\n",
       "    .dataframe thead th {\n",
       "        text-align: right;\n",
       "    }\n",
       "</style>\n",
       "<table border=\"1\" class=\"dataframe\">\n",
       "  <thead>\n",
       "    <tr style=\"text-align: right;\">\n",
       "      <th></th>\n",
       "      <th>date</th>\n",
       "      <th>title</th>\n",
       "      <th>category</th>\n",
       "      <th>link</th>\n",
       "      <th>abstract</th>\n",
       "      <th>paragraphs</th>\n",
       "      <th>content</th>\n",
       "    </tr>\n",
       "  </thead>\n",
       "  <tbody>\n",
       "    <tr>\n",
       "      <th>0</th>\n",
       "      <td>18.02.2019</td>\n",
       "      <td>Corporate philanthropy &amp; Scientific research: ...</td>\n",
       "      <td>Corporate philanthropy</td>\n",
       "      <td>https://group.bnpparibas/en/news/corporate-phi...</td>\n",
       "      <td>On Monday, February 11th 2019, the BNP Paribas...</td>\n",
       "      <td>[On Monday, February 11th 2019, the BNP Pariba...</td>\n",
       "      <td>On Monday, February 11th 2019, the BNP Paribas...</td>\n",
       "    </tr>\n",
       "    <tr>\n",
       "      <th>1</th>\n",
       "      <td>15.02.2019</td>\n",
       "      <td>Notification by the ECB of the 2018 Supervisor...</td>\n",
       "      <td>Press release</td>\n",
       "      <td>https://group.bnpparibas/en/press-release/noti...</td>\n",
       "      <td>NaN</td>\n",
       "      <td>[BNP Paribas has received the notification by ...</td>\n",
       "      <td>BNP Paribas has received the notification by t...</td>\n",
       "    </tr>\n",
       "    <tr>\n",
       "      <th>2</th>\n",
       "      <td>15.02.2019</td>\n",
       "      <td>7 days of Economics: Foreign versus domestic d...</td>\n",
       "      <td>Economy</td>\n",
       "      <td>https://group.bnpparibas/en/news/7-days-econom...</td>\n",
       "      <td>NaN</td>\n",
       "      <td>[7 days of Economics: Eurozone, what does weak...</td>\n",
       "      <td>7 days of Economics: Eurozone, what does weake...</td>\n",
       "    </tr>\n",
       "    <tr>\n",
       "      <th>3</th>\n",
       "      <td>13.02.2019</td>\n",
       "      <td>Portrait of Jann Gallois, bold choregrapher</td>\n",
       "      <td>Corporate philanthropy</td>\n",
       "      <td>https://group.bnpparibas/en/news/portrait-jann...</td>\n",
       "      <td>The choreographer Jann Gallois, supported by t...</td>\n",
       "      <td>[Corporate philanthropy &amp; Scientific research:...</td>\n",
       "      <td>Corporate philanthropy &amp; Scientific research: ...</td>\n",
       "    </tr>\n",
       "    <tr>\n",
       "      <th>4</th>\n",
       "      <td>12.02.2019</td>\n",
       "      <td>Participate in the 2nd edition of Roland-Garro...</td>\n",
       "      <td>Tennis</td>\n",
       "      <td>https://group.bnpparibas/en/news/participate-2...</td>\n",
       "      <td>On 12th of February 2019, Roland Garros, BNP P...</td>\n",
       "      <td>[BNP Paribas Young Talent Team: the first ten ...</td>\n",
       "      <td>BNP Paribas Young Talent Team: the first ten y...</td>\n",
       "    </tr>\n",
       "  </tbody>\n",
       "</table>\n",
       "</div>"
      ],
      "text/plain": [
       "         date                                              title  \\\n",
       "0  18.02.2019  Corporate philanthropy & Scientific research: ...   \n",
       "1  15.02.2019  Notification by the ECB of the 2018 Supervisor...   \n",
       "2  15.02.2019  7 days of Economics: Foreign versus domestic d...   \n",
       "3  13.02.2019        Portrait of Jann Gallois, bold choregrapher   \n",
       "4  12.02.2019  Participate in the 2nd edition of Roland-Garro...   \n",
       "\n",
       "                 category                                               link  \\\n",
       "0  Corporate philanthropy  https://group.bnpparibas/en/news/corporate-phi...   \n",
       "1           Press release  https://group.bnpparibas/en/press-release/noti...   \n",
       "2                 Economy  https://group.bnpparibas/en/news/7-days-econom...   \n",
       "3  Corporate philanthropy  https://group.bnpparibas/en/news/portrait-jann...   \n",
       "4                  Tennis  https://group.bnpparibas/en/news/participate-2...   \n",
       "\n",
       "                                            abstract  \\\n",
       "0  On Monday, February 11th 2019, the BNP Paribas...   \n",
       "1                                                NaN   \n",
       "2                                                NaN   \n",
       "3  The choreographer Jann Gallois, supported by t...   \n",
       "4  On 12th of February 2019, Roland Garros, BNP P...   \n",
       "\n",
       "                                          paragraphs  \\\n",
       "0  [On Monday, February 11th 2019, the BNP Pariba...   \n",
       "1  [BNP Paribas has received the notification by ...   \n",
       "2  [7 days of Economics: Eurozone, what does weak...   \n",
       "3  [Corporate philanthropy & Scientific research:...   \n",
       "4  [BNP Paribas Young Talent Team: the first ten ...   \n",
       "\n",
       "                                             content  \n",
       "0  On Monday, February 11th 2019, the BNP Paribas...  \n",
       "1  BNP Paribas has received the notification by t...  \n",
       "2  7 days of Economics: Eurozone, what does weake...  \n",
       "3  Corporate philanthropy & Scientific research: ...  \n",
       "4  BNP Paribas Young Talent Team: the first ten y...  "
      ]
     },
     "execution_count": 3,
     "metadata": {},
     "output_type": "execute_result"
    }
   ],
   "source": [
    "df.head()"
   ]
  },
  {
   "cell_type": "code",
   "execution_count": 4,
   "metadata": {},
   "outputs": [],
   "source": [
    "article_vectorizer, article_tfidf_matrix = train_document_retriever(corpus=df['content'])"
   ]
  },
  {
   "cell_type": "code",
   "execution_count": 5,
   "metadata": {},
   "outputs": [
    {
     "name": "stderr",
     "output_type": "stream",
     "text": [
      "/home/ubuntu/anaconda3/lib/python3.6/site-packages/tqdm/autonotebook/__init__.py:14: TqdmExperimentalWarning: Using `tqdm.autonotebook.tqdm` in notebook mode. Use `tqdm.tqdm` instead to force console mode (e.g. in jupyter console)\n",
      "  \" (e.g. in jupyter console)\", TqdmExperimentalWarning)\n"
     ]
    }
   ],
   "source": [
    "from cdqa.utils.converter import generate_squad_examples\n",
    "from cdqa.retriever.tfidf_doc_ranker import predict_document_retriever\n",
    "from cdqa.reader.bertqa_sklearn import BertProcessor, BertQA"
   ]
  },
  {
   "cell_type": "code",
   "execution_count": 6,
   "metadata": {},
   "outputs": [],
   "source": [
    "question = 'Since when does the the Excellence Program of BNP Paribas exist?'"
   ]
  },
  {
   "cell_type": "code",
   "execution_count": 7,
   "metadata": {},
   "outputs": [
    {
     "name": "stdout",
     "output_type": "stream",
     "text": [
      "+------+-------+--------------------------------------------------------------------+\n",
      "| rank | index |                               title                                |\n",
      "+------+-------+--------------------------------------------------------------------+\n",
      "|  1   |  788  | Green is the new blue: SRI news by BNP Paribas Investment Partners |\n",
      "|  2   |  408  |        BNP Paribas’ commitment to universities and schools         |\n",
      "|  3   |  2419 |        Federer challenges Stan to remain in big time (AFP)         |\n",
      "+------+-------+--------------------------------------------------------------------+\n",
      "Time: 0.01145 seconds\n"
     ]
    }
   ],
   "source": [
    "article_indices = predict_document_retriever(question=question,\n",
    "                                             paragraphs=None,\n",
    "                                             vectorizer=article_vectorizer,\n",
    "                                             tfidf_matrix=article_tfidf_matrix,\n",
    "                                             top_n=3,\n",
    "                                             metadata=df,\n",
    "                                             verbose=True)"
   ]
  },
  {
   "cell_type": "code",
   "execution_count": 8,
   "metadata": {},
   "outputs": [
    {
     "name": "stderr",
     "output_type": "stream",
     "text": [
      "3it [00:00, 2192.91it/s]\n"
     ]
    }
   ],
   "source": [
    "squad_examples = generate_squad_examples(question=question,\n",
    "                                         article_indices=article_indices,\n",
    "                                         metadata=df)"
   ]
  },
  {
   "cell_type": "code",
   "execution_count": 9,
   "metadata": {},
   "outputs": [],
   "source": [
    "test_processor = BertProcessor(bert_model='bert-base-uncased', do_lower_case=True, is_training=False)"
   ]
  },
  {
   "cell_type": "code",
   "execution_count": 10,
   "metadata": {},
   "outputs": [
    {
     "name": "stdout",
     "output_type": "stream",
     "text": [
      "CPU times: user 496 ms, sys: 8 ms, total: 504 ms\n",
      "Wall time: 797 ms\n"
     ]
    }
   ],
   "source": [
    "%%time\n",
    "test_examples, test_features = test_processor.fit_transform(X=squad_examples)"
   ]
  },
  {
   "cell_type": "code",
   "execution_count": 11,
   "metadata": {},
   "outputs": [],
   "source": [
    "model = load(os.path.join('../models/bert_qa_squad_v1.1_sklearn', 'bert_qa_squad_v1.1_sklearn.joblib'))\n",
    "\n",
    "# tuning model parameters for predictions\n",
    "model.output_dir = '../logs/bert_qa_squad_v1.1_sklearn'\n",
    "model.max_seq_length = 128\n",
    "model.predict_batch_size = 128"
   ]
  },
  {
   "cell_type": "code",
   "execution_count": 12,
   "metadata": {},
   "outputs": [
    {
     "data": {
      "application/vnd.jupyter.widget-view+json": {
       "model_id": "ab3e741c02d34b95bea1ed72873b1805",
       "version_major": 2,
       "version_minor": 0
      },
      "text/plain": [
       "HBox(children=(IntProgress(value=0, description='Evaluating', max=2, style=ProgressStyle(description_width='in…"
      ]
     },
     "metadata": {},
     "output_type": "display_data"
    },
    {
     "name": "stdout",
     "output_type": "stream",
     "text": [
      "\n",
      "CPU times: user 2.43 s, sys: 600 ms, total: 3.03 s\n",
      "Wall time: 3.03 s\n"
     ]
    }
   ],
   "source": [
    "%%time\n",
    "final_prediction, all_predictions, all_nbest_json, scores_diff_json = model.predict(X=(test_examples, test_features))"
   ]
  },
  {
   "cell_type": "code",
   "execution_count": 13,
   "metadata": {},
   "outputs": [
    {
     "name": "stdout",
     "output_type": "stream",
     "text": [
      "question: Since when does the the Excellence Program of BNP Paribas exist?\n",
      "answer: January 2016\n"
     ]
    }
   ],
   "source": [
    "print('question: {}'.format(question))\n",
    "print('answer: {}'.format(final_prediction))"
   ]
  }
 ],
 "metadata": {
  "kernelspec": {
   "display_name": "Python 3",
   "language": "python",
   "name": "python3"
  },
  "language_info": {
   "codemirror_mode": {
    "name": "ipython",
    "version": 3
   },
   "file_extension": ".py",
   "mimetype": "text/x-python",
   "name": "python",
   "nbconvert_exporter": "python",
   "pygments_lexer": "ipython3",
   "version": "3.6.5"
  }
 },
 "nbformat": 4,
 "nbformat_minor": 2
}
