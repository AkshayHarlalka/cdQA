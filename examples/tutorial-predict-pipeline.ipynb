{
 "cells": [
  {
   "cell_type": "code",
   "execution_count": 1,
   "metadata": {
    "ExecuteTime": {
     "end_time": "2019-05-02T10:30:03.892921Z",
     "start_time": "2019-05-02T10:29:55.411662Z"
    }
   },
   "outputs": [
    {
     "name": "stderr",
     "output_type": "stream",
     "text": [
      "/home/ubuntu/anaconda3/lib/python3.6/site-packages/tqdm/autonotebook/__init__.py:14: TqdmExperimentalWarning: Using `tqdm.autonotebook.tqdm` in notebook mode. Use `tqdm.tqdm` instead to force console mode (e.g. in jupyter console)\n",
      "  \" (e.g. in jupyter console)\", TqdmExperimentalWarning)\n"
     ]
    }
   ],
   "source": [
    "import os\n",
    "from ast import literal_eval\n",
    "import pandas as pd\n",
    "\n",
    "from cdqa.utils.converter import filter_paragraphs\n",
    "from cdqa.pipeline.cdqa_sklearn import QAPipeline"
   ]
  },
  {
   "cell_type": "code",
   "execution_count": 2,
   "metadata": {
    "ExecuteTime": {
     "end_time": "2019-05-02T10:30:05.585568Z",
     "start_time": "2019-05-02T10:30:04.765054Z"
    }
   },
   "outputs": [],
   "source": [
    "df = pd.read_csv('../data/bnpp_newsroom_v1.0/bnpp_newsroom-v1.0.csv', converters={'paragraphs': literal_eval})\n",
    "\n",
    "df['paragraphs'] = df['paragraphs'].apply(filter_paragraphs)\n",
    "df['content'] = df['paragraphs'].apply(lambda x: ' '.join(x))"
   ]
  },
  {
   "cell_type": "code",
   "execution_count": 3,
   "metadata": {
    "ExecuteTime": {
     "end_time": "2019-05-02T10:30:06.431439Z",
     "start_time": "2019-05-02T10:30:06.383895Z"
    }
   },
   "outputs": [
    {
     "data": {
      "text/html": [
       "<div>\n",
       "<style scoped>\n",
       "    .dataframe tbody tr th:only-of-type {\n",
       "        vertical-align: middle;\n",
       "    }\n",
       "\n",
       "    .dataframe tbody tr th {\n",
       "        vertical-align: top;\n",
       "    }\n",
       "\n",
       "    .dataframe thead th {\n",
       "        text-align: right;\n",
       "    }\n",
       "</style>\n",
       "<table border=\"1\" class=\"dataframe\">\n",
       "  <thead>\n",
       "    <tr style=\"text-align: right;\">\n",
       "      <th></th>\n",
       "      <th>date</th>\n",
       "      <th>title</th>\n",
       "      <th>category</th>\n",
       "      <th>link</th>\n",
       "      <th>abstract</th>\n",
       "      <th>paragraphs</th>\n",
       "      <th>content</th>\n",
       "    </tr>\n",
       "  </thead>\n",
       "  <tbody>\n",
       "    <tr>\n",
       "      <th>0</th>\n",
       "      <td>18.02.2019</td>\n",
       "      <td>Corporate philanthropy &amp; Scientific research: ...</td>\n",
       "      <td>Corporate philanthropy</td>\n",
       "      <td>https://group.bnpparibas/en/news/corporate-phi...</td>\n",
       "      <td>On Monday, February 11th 2019, the BNP Paribas...</td>\n",
       "      <td>[On Monday, February 11th 2019, the BNP Pariba...</td>\n",
       "      <td>On Monday, February 11th 2019, the BNP Paribas...</td>\n",
       "    </tr>\n",
       "    <tr>\n",
       "      <th>1</th>\n",
       "      <td>15.02.2019</td>\n",
       "      <td>Notification by the ECB of the 2018 Supervisor...</td>\n",
       "      <td>Press release</td>\n",
       "      <td>https://group.bnpparibas/en/press-release/noti...</td>\n",
       "      <td>NaN</td>\n",
       "      <td>[BNP Paribas has received the notification by ...</td>\n",
       "      <td>BNP Paribas has received the notification by t...</td>\n",
       "    </tr>\n",
       "    <tr>\n",
       "      <th>2</th>\n",
       "      <td>15.02.2019</td>\n",
       "      <td>7 days of Economics: Foreign versus domestic d...</td>\n",
       "      <td>Economy</td>\n",
       "      <td>https://group.bnpparibas/en/news/7-days-econom...</td>\n",
       "      <td>NaN</td>\n",
       "      <td>[7 days of Economics: Eurozone, what does weak...</td>\n",
       "      <td>7 days of Economics: Eurozone, what does weake...</td>\n",
       "    </tr>\n",
       "    <tr>\n",
       "      <th>3</th>\n",
       "      <td>13.02.2019</td>\n",
       "      <td>Portrait of Jann Gallois, bold choregrapher</td>\n",
       "      <td>Corporate philanthropy</td>\n",
       "      <td>https://group.bnpparibas/en/news/portrait-jann...</td>\n",
       "      <td>The choreographer Jann Gallois, supported by t...</td>\n",
       "      <td>[Corporate philanthropy &amp; Scientific research:...</td>\n",
       "      <td>Corporate philanthropy &amp; Scientific research: ...</td>\n",
       "    </tr>\n",
       "    <tr>\n",
       "      <th>4</th>\n",
       "      <td>12.02.2019</td>\n",
       "      <td>Participate in the 2nd edition of Roland-Garro...</td>\n",
       "      <td>Tennis</td>\n",
       "      <td>https://group.bnpparibas/en/news/participate-2...</td>\n",
       "      <td>On 12th of February 2019, Roland Garros, BNP P...</td>\n",
       "      <td>[BNP Paribas Young Talent Team: the first ten ...</td>\n",
       "      <td>BNP Paribas Young Talent Team: the first ten y...</td>\n",
       "    </tr>\n",
       "  </tbody>\n",
       "</table>\n",
       "</div>"
      ],
      "text/plain": [
       "         date                                              title  \\\n",
       "0  18.02.2019  Corporate philanthropy & Scientific research: ...   \n",
       "1  15.02.2019  Notification by the ECB of the 2018 Supervisor...   \n",
       "2  15.02.2019  7 days of Economics: Foreign versus domestic d...   \n",
       "3  13.02.2019        Portrait of Jann Gallois, bold choregrapher   \n",
       "4  12.02.2019  Participate in the 2nd edition of Roland-Garro...   \n",
       "\n",
       "                 category                                               link  \\\n",
       "0  Corporate philanthropy  https://group.bnpparibas/en/news/corporate-phi...   \n",
       "1           Press release  https://group.bnpparibas/en/press-release/noti...   \n",
       "2                 Economy  https://group.bnpparibas/en/news/7-days-econom...   \n",
       "3  Corporate philanthropy  https://group.bnpparibas/en/news/portrait-jann...   \n",
       "4                  Tennis  https://group.bnpparibas/en/news/participate-2...   \n",
       "\n",
       "                                            abstract  \\\n",
       "0  On Monday, February 11th 2019, the BNP Paribas...   \n",
       "1                                                NaN   \n",
       "2                                                NaN   \n",
       "3  The choreographer Jann Gallois, supported by t...   \n",
       "4  On 12th of February 2019, Roland Garros, BNP P...   \n",
       "\n",
       "                                          paragraphs  \\\n",
       "0  [On Monday, February 11th 2019, the BNP Pariba...   \n",
       "1  [BNP Paribas has received the notification by ...   \n",
       "2  [7 days of Economics: Eurozone, what does weak...   \n",
       "3  [Corporate philanthropy & Scientific research:...   \n",
       "4  [BNP Paribas Young Talent Team: the first ten ...   \n",
       "\n",
       "                                             content  \n",
       "0  On Monday, February 11th 2019, the BNP Paribas...  \n",
       "1  BNP Paribas has received the notification by t...  \n",
       "2  7 days of Economics: Eurozone, what does weake...  \n",
       "3  Corporate philanthropy & Scientific research: ...  \n",
       "4  BNP Paribas Young Talent Team: the first ten y...  "
      ]
     },
     "execution_count": 3,
     "metadata": {},
     "output_type": "execute_result"
    }
   ],
   "source": [
    "df.head()"
   ]
  },
  {
   "cell_type": "code",
   "execution_count": 4,
   "metadata": {
    "ExecuteTime": {
     "end_time": "2019-05-02T10:30:24.355086Z",
     "start_time": "2019-05-02T10:30:20.332190Z"
    }
   },
   "outputs": [],
   "source": [
    "cdqa_pipeline = QAPipeline(model='../models/bert_qa_squad_v1.1_sklearn/bert_qa_squad_v1.1_sklearn.joblib')\n",
    "cdqa_pipeline.fit(X=df)\n",
    "cdqa_pipeline.model.output_dir = '../logs/'"
   ]
  },
  {
   "cell_type": "code",
   "execution_count": 5,
   "metadata": {
    "ExecuteTime": {
     "end_time": "2019-05-02T10:36:58.084020Z",
     "start_time": "2019-05-02T10:31:49.167307Z"
    }
   },
   "outputs": [
    {
     "name": "stderr",
     "output_type": "stream",
     "text": [
      "3it [00:00, 2186.81it/s]\n",
      "The pre-trained model you are loading is an uncased model but you have set `do_lower_case` to False. We are setting `do_lower_case=True` for you but you may want to check this behavior.\n"
     ]
    },
    {
     "name": "stdout",
     "output_type": "stream",
     "text": [
      "+------+-------+--------------------------------------------------------------------+\n",
      "| rank | index |                               title                                |\n",
      "+------+-------+--------------------------------------------------------------------+\n",
      "|  1   |  788  | Green is the new blue: SRI news by BNP Paribas Investment Partners |\n",
      "|  2   |  408  |        BNP Paribas’ commitment to universities and schools         |\n",
      "|  3   |  2419 |        Federer challenges Stan to remain in big time (AFP)         |\n",
      "+------+-------+--------------------------------------------------------------------+\n",
      "Time: 0.00981 seconds\n"
     ]
    }
   ],
   "source": [
    "query = 'Since when does the Excellence Program of BNP Paribas exist?'\n",
    "prediction = cdqa_pipeline.predict(X=query)"
   ]
  },
  {
   "cell_type": "code",
   "execution_count": 6,
   "metadata": {
    "ExecuteTime": {
     "end_time": "2019-05-02T10:36:58.245849Z",
     "start_time": "2019-05-02T10:36:58.235022Z"
    }
   },
   "outputs": [
    {
     "name": "stdout",
     "output_type": "stream",
     "text": [
      "question: Since when does the Excellence Program of BNP Paribas exist?\n",
      "answer: January 2016\n"
     ]
    }
   ],
   "source": [
    "# Display results\n",
    "print('question: {}'.format(query))\n",
    "print('answer: {}'.format(prediction))"
   ]
  }
 ],
 "metadata": {
  "hide_input": false,
  "kernelspec": {
   "display_name": "Python 3",
   "language": "python",
   "name": "python3"
  },
  "language_info": {
   "codemirror_mode": {
    "name": "ipython",
    "version": 3
   },
   "file_extension": ".py",
   "mimetype": "text/x-python",
   "name": "python",
   "nbconvert_exporter": "python",
   "pygments_lexer": "ipython3",
   "version": "3.6.5"
  },
  "toc": {
   "base_numbering": 1,
   "nav_menu": {},
   "number_sections": true,
   "sideBar": true,
   "skip_h1_title": false,
   "title_cell": "Table of Contents",
   "title_sidebar": "Contents",
   "toc_cell": false,
   "toc_position": {},
   "toc_section_display": true,
   "toc_window_display": false
  },
  "varInspector": {
   "cols": {
    "lenName": 16,
    "lenType": 16,
    "lenVar": 40
   },
   "kernels_config": {
    "python": {
     "delete_cmd_postfix": "",
     "delete_cmd_prefix": "del ",
     "library": "var_list.py",
     "varRefreshCmd": "print(var_dic_list())"
    },
    "r": {
     "delete_cmd_postfix": ") ",
     "delete_cmd_prefix": "rm(",
     "library": "var_list.r",
     "varRefreshCmd": "cat(var_dic_list()) "
    }
   },
   "types_to_exclude": [
    "module",
    "function",
    "builtin_function_or_method",
    "instance",
    "_Feature"
   ],
   "window_display": false
  }
 },
 "nbformat": 4,
 "nbformat_minor": 2
}
