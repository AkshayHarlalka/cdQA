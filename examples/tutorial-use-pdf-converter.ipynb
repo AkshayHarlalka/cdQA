{
  "nbformat": 4,
  "nbformat_minor": 0,
  "metadata": {
    "colab": {
      "name": "Untitled0.ipynb",
      "version": "0.3.2",
      "provenance": [],
      "collapsed_sections": []
    },
    "kernelspec": {
      "name": "python3",
      "display_name": "Python 3"
    },
    "accelerator": "GPU"
  },
  "cells": [
    {
      "cell_type": "markdown",
      "metadata": {
        "id": "wx0Sg_fRM5Kh",
        "colab_type": "text"
      },
      "source": [
        "# Notebook [2]: Using the PDF converter"
      ]
    },
    {
      "cell_type": "markdown",
      "metadata": {
        "id": "Y5PrFhdQMeBF",
        "colab_type": "text"
      },
      "source": [
        "\n",
        "\n",
        "This notebook shows how to use the PDF converter to create an input dataframe for the cdQA pipeline from a directory of PDF files.\n"
      ]
    },
    {
      "cell_type": "markdown",
      "metadata": {
        "id": "f58-FXmbMfjz",
        "colab_type": "text"
      },
      "source": [
        "***Note:*** *To run this notebook you will need to have access to GPU. If you are using colab, you will need to install `cdQA` by executing `!pip install cdqa` in a cell.* "
      ]
    },
    {
      "cell_type": "code",
      "metadata": {
        "id": "7UMrjUJ2EGmu",
        "colab_type": "code",
        "colab": {
          "base_uri": "https://localhost:8080/",
          "height": 76
        },
        "outputId": "97fb0bd8-8a73-4cd0-cd43-eb326067a03d"
      },
      "source": [
        "import os\n",
        "import pandas as pd\n",
        "from ast import literal_eval\n",
        "\n",
        "from cdqa.utils.converters import pdf_converter\n",
        "from cdqa.utils.filters import filter_paragraphs\n",
        "from cdqa.pipeline.cdqa_sklearn import QAPipeline"
      ],
      "execution_count": 1,
      "outputs": [
        {
          "output_type": "stream",
          "text": [
            "/usr/local/lib/python3.6/dist-packages/tqdm/autonotebook/__init__.py:14: TqdmExperimentalWarning: Using `tqdm.autonotebook.tqdm` in notebook mode. Use `tqdm.tqdm` instead to force console mode (e.g. in jupyter console)\n",
            "  \" (e.g. in jupyter console)\", TqdmExperimentalWarning)\n"
          ],
          "name": "stderr"
        }
      ]
    },
    {
      "cell_type": "markdown",
      "metadata": {
        "id": "V1fV_dquOrx0",
        "colab_type": "text"
      },
      "source": [
        "### Download pre-trained reader models and PDF files"
      ]
    },
    {
      "cell_type": "code",
      "metadata": {
        "id": "yhg8jFjbERzv",
        "colab_type": "code",
        "outputId": "3c5414b9-979b-4342-c76d-ab3a05520d3e",
        "colab": {
          "base_uri": "https://localhost:8080/",
          "height": 94
        }
      },
      "source": [
        "import os\n",
        "import wget\n",
        "\n",
        "\n",
        "def download_models():\n",
        "    directory = 'models'\n",
        "    models_url = [\n",
        "    'https://github.com/cdqa-suite/cdQA/releases/download/bert_qa_vGPU/bert_qa_vGPU-sklearn.joblib',\n",
        "    'https://github.com/cdqa-suite/cdQA/releases/download/bert_qa_vCPU/bert_qa_vCPU-sklearn.joblib'\n",
        "    ]\n",
        "\n",
        "    print('\\nDownloading trained models...')\n",
        "\n",
        "    if not os.path.exists(directory):\n",
        "        os.makedirs(directory)\n",
        "    for url in models_url:\n",
        "        wget.download(url=url, out=directory)\n",
        "\n",
        "def download_pdf():\n",
        "  directory = 'data/pdf/'\n",
        "  models_url = [\n",
        "      'https://invest.bnpparibas.com/documents/1q19-pr-12648',\n",
        "      'https://invest.bnpparibas.com/documents/4q18-pr-18000',\n",
        "      'https://invest.bnpparibas.com/documents/4q17-pr'\n",
        "  ]\n",
        "\n",
        "  print('\\nDownloading PDF files...')\n",
        "\n",
        "  if not os.path.exists(directory):\n",
        "      os.makedirs(directory)\n",
        "  for url in models_url:\n",
        "      wget.download(url=url, out=directory)\n",
        "\n",
        "download_models()\n",
        "download_pdf()"
      ],
      "execution_count": 2,
      "outputs": [
        {
          "output_type": "stream",
          "text": [
            "\n",
            "Downloading trained models...\n",
            "\n",
            "Downloading PDF files...\n"
          ],
          "name": "stdout"
        }
      ]
    },
    {
      "cell_type": "markdown",
      "metadata": {
        "id": "QqPK6BV2O-RO",
        "colab_type": "text"
      },
      "source": [
        "### Convert the PDF files into a DataFrame for cdQA pipeline"
      ]
    },
    {
      "cell_type": "code",
      "metadata": {
        "id": "czafu4-aEXXm",
        "colab_type": "code",
        "outputId": "d1c13305-b4a3-4dff-f0ec-6bf277ca3b2a",
        "colab": {
          "base_uri": "https://localhost:8080/",
          "height": 143
        }
      },
      "source": [
        "df = pdf_converter(directory_path='data/pdf/')\n",
        "df.head()"
      ],
      "execution_count": 3,
      "outputs": [
        {
          "output_type": "execute_result",
          "data": {
            "text/html": [
              "<div>\n",
              "<style scoped>\n",
              "    .dataframe tbody tr th:only-of-type {\n",
              "        vertical-align: middle;\n",
              "    }\n",
              "\n",
              "    .dataframe tbody tr th {\n",
              "        vertical-align: top;\n",
              "    }\n",
              "\n",
              "    .dataframe thead th {\n",
              "        text-align: right;\n",
              "    }\n",
              "</style>\n",
              "<table border=\"1\" class=\"dataframe\">\n",
              "  <thead>\n",
              "    <tr style=\"text-align: right;\">\n",
              "      <th></th>\n",
              "      <th>title</th>\n",
              "      <th>paragraphs</th>\n",
              "    </tr>\n",
              "  </thead>\n",
              "  <tbody>\n",
              "    <tr>\n",
              "      <th>0</th>\n",
              "      <td>4q17-pr.pdf</td>\n",
              "      <td>[GOOD START OF THE 2020 PLAN    * COST OF RISK...</td>\n",
              "    </tr>\n",
              "    <tr>\n",
              "      <th>1</th>\n",
              "      <td>4q18-pr2.pdf</td>\n",
              "      <td>[SIGNIFICANT PROGRESS IN THE DIGITAL TRANSFORM...</td>\n",
              "    </tr>\n",
              "    <tr>\n",
              "      <th>2</th>\n",
              "      <td>1q19-pr-12648.pdf</td>\n",
              "      <td>[The business of BNP Paribas was up this quart...</td>\n",
              "    </tr>\n",
              "  </tbody>\n",
              "</table>\n",
              "</div>"
            ],
            "text/plain": [
              "               title                                         paragraphs\n",
              "0        4q17-pr.pdf  [GOOD START OF THE 2020 PLAN    * COST OF RISK...\n",
              "1       4q18-pr2.pdf  [SIGNIFICANT PROGRESS IN THE DIGITAL TRANSFORM...\n",
              "2  1q19-pr-12648.pdf  [The business of BNP Paribas was up this quart..."
            ]
          },
          "metadata": {
            "tags": []
          },
          "execution_count": 3
        }
      ]
    },
    {
      "cell_type": "markdown",
      "metadata": {
        "id": "FLZd4H_vPJuU",
        "colab_type": "text"
      },
      "source": [
        "### Instantiate the cdQA pipeline from a pre-trained GPU reader"
      ]
    },
    {
      "cell_type": "code",
      "metadata": {
        "id": "8OOqnkNyEaFe",
        "colab_type": "code",
        "outputId": "1182284f-abf7-46dc-829c-09b2758e7bcd",
        "colab": {
          "base_uri": "https://localhost:8080/",
          "height": 211
        }
      },
      "source": [
        "cdqa_pipeline = QAPipeline(reader='models/bert_qa_vGPU-sklearn.joblib', max_df=1.0)\n",
        "cdqa_pipeline.fit(X=df)"
      ],
      "execution_count": 4,
      "outputs": [
        {
          "output_type": "execute_result",
          "data": {
            "text/plain": [
              "QAPipeline(reader=BertQA(bert_model='bert-base-uncased', do_lower_case=True,\n",
              "                         fp16=False, gradient_accumulation_steps=1,\n",
              "                         learning_rate=3e-05, local_rank=-1, loss_scale=0,\n",
              "                         max_answer_length=30, n_best_size=20, no_cuda=False,\n",
              "                         null_score_diff_threshold=0.0, num_train_epochs=2,\n",
              "                         output_dir='/home/ubuntu/cdQA/models',\n",
              "                         predict_batch_size=8, seed=42, server_ip='',\n",
              "                         server_port='', train_batch_size=12,\n",
              "                         verbose_logging=False, version_2_with_negative=False,\n",
              "                         warmup_proportion=0.1))"
            ]
          },
          "metadata": {
            "tags": []
          },
          "execution_count": 4
        }
      ]
    },
    {
      "cell_type": "markdown",
      "metadata": {
        "id": "40nBTa4UPrO2",
        "colab_type": "text"
      },
      "source": [
        " ### Execute a query"
      ]
    },
    {
      "cell_type": "code",
      "metadata": {
        "id": "POH2gjywEcNb",
        "colab_type": "code",
        "outputId": "d454f0af-d64e-4d32-8da1-d1694a3e787d",
        "colab": {
          "base_uri": "https://localhost:8080/",
          "height": 56
        }
      },
      "source": [
        "query = 'How many contracts did BNP Paribas Cardif sell in 2019?'\n",
        "prediction = cdqa_pipeline.predict(X=query)"
      ],
      "execution_count": 5,
      "outputs": [
        {
          "output_type": "stream",
          "text": [
            "3it [00:00, 375.06it/s]\n",
            "The pre-trained model you are loading is an uncased model but you have set `do_lower_case` to False. We are setting `do_lower_case=True` for you but you may want to check this behavior.\n"
          ],
          "name": "stderr"
        }
      ]
    },
    {
      "cell_type": "markdown",
      "metadata": {
        "id": "PgdnYmW3P3d8",
        "colab_type": "text"
      },
      "source": [
        "### Explore predictions"
      ]
    },
    {
      "cell_type": "code",
      "metadata": {
        "id": "ThCffJekEdiC",
        "colab_type": "code",
        "outputId": "0ca8870f-aabc-4ef9-8fad-751974e70284",
        "colab": {
          "base_uri": "https://localhost:8080/",
          "height": 114
        }
      },
      "source": [
        "print('query: {}'.format(query))\n",
        "print('answer: {}'.format(prediction[0]))\n",
        "print('title: {}'.format(prediction[1]))\n",
        "print('paragraph: {}'.format(prediction[2]))"
      ],
      "execution_count": 6,
      "outputs": [
        {
          "output_type": "stream",
          "text": [
            "query: How many contracts did BNP Paribas Cardif sell in 2019?\n",
            "answer: 140,000\n",
            "title: 1q19-pr-12648.pdf\n",
            "paragraph: Insurance recorded a good level of activity with in particular the good performance of the international Savings and Protection Insurance businesses and the good development of the new property and casualty insurance offering in the FRB network via Cardif IARD4 (close to 140,000 contracts sold at the end of March 2019). The business committed to energy transition with a target of 3.5 billion euros in green investments by the end of 2020.  \n"
          ],
          "name": "stdout"
        }
      ]
    }
  ]
}